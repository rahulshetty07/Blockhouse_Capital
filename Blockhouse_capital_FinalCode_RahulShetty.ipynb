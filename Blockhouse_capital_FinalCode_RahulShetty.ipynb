{
 "cells": [
  {
   "cell_type": "code",
   "execution_count": 1,
   "metadata": {},
   "outputs": [],
   "source": [
    "import numpy as np\n",
    "import pandas as pd\n",
    "import torch\n",
    "import torch.nn as nn\n",
    "import torch.optim as optim\n",
    "from torch.utils.data import Dataset, DataLoader\n",
    "from sklearn.preprocessing import MinMaxScaler\n",
    "from tqdm import tqdm\n",
    "import matplotlib.pyplot as plt\n",
    "\n",
    "\n",
    "device = torch.device('cuda' if torch.cuda.is_available() else 'cpu')\n"
   ]
  },
  {
   "cell_type": "markdown",
   "metadata": {},
   "source": [
    "## Load and Preprocess the Dataset"
   ]
  },
  {
   "cell_type": "code",
   "execution_count": 2,
   "metadata": {},
   "outputs": [],
   "source": [
    "# Load the dataset\n",
    "data = pd.read_csv('xnas-itch-20230703.tbbo.csv')\n",
    "\n",
    "# Convert price columns to correct scale\n",
    "data['price'] = data['price'] / 1e9\n",
    "data['bid_px_00'] = data['bid_px_00'] / 1e9\n",
    "data['ask_px_00'] = data['ask_px_00'] / 1e9\n",
    "\n",
    "# Create required columns for technical indicators\n",
    "data['Close'] = data['price']\n",
    "data['Volume'] = data['size']\n",
    "data['High'] = data[['bid_px_00', 'ask_px_00']].max(axis=1)\n",
    "data['Low'] = data[['bid_px_00', 'ask_px_00']].min(axis=1)\n",
    "data['Open'] = data['Close'].shift(1).fillna(data['Close'])\n"
   ]
  },
  {
   "cell_type": "markdown",
   "metadata": {},
   "source": [
    "# Defining the technical indicators"
   ]
  },
  {
   "cell_type": "code",
   "execution_count": 3,
   "metadata": {},
   "outputs": [],
   "source": [
    "\n",
    "def calculate_rsi(series, period=14):\n",
    "    delta = series.diff()\n",
    "    gain = (delta.where(delta > 0, 0)).rolling(window=period).mean()\n",
    "    loss = (-delta.where(delta < 0, 0)).rolling(window=period).mean()\n",
    "    rs = gain / loss\n",
    "    return 100 - (100 / (1 + rs))\n",
    "\n",
    "def calculate_macd(series, fast_period=12, slow_period=26, signal_period=9):\n",
    "    fast_ema = series.ewm(span=fast_period, min_periods=fast_period).mean()\n",
    "    slow_ema = series.ewm(span=slow_period, min_periods=slow_period).mean()\n",
    "    macd = fast_ema - slow_ema\n",
    "    signal = macd.ewm(span=signal_period, min_periods=signal_period).mean()\n",
    "    return macd, signal, macd - signal\n",
    "\n",
    "def calculate_stochastic(high, low, close, period=14):\n",
    "    lowest_low = low.rolling(window=period).min()\n",
    "    highest_high = high.rolling(window=period).max()\n",
    "    k = 100 * (close - lowest_low) / (highest_high - lowest_low)\n",
    "    d = k.rolling(window=3).mean()\n",
    "    return k, d\n",
    "\n",
    "def calculate_obv(close, volume):\n",
    "    obv = np.where(close.diff() > 0, volume, -volume).cumsum()\n",
    "    return obv\n",
    "\n",
    "def calculate_bollinger_bands(series, period=20):\n",
    "    sma = series.rolling(window=period).mean()\n",
    "    std = series.rolling(window=period).std()\n",
    "    upper_band = sma + (std * 2)\n",
    "    lower_band = sma - (std * 2)\n",
    "    return upper_band, sma, lower_band\n",
    "\n",
    "def calculate_atr(high, low, close, period=14):\n",
    "    high_low = high - low\n",
    "    high_close = np.abs(high - close.shift())\n",
    "    low_close = np.abs(low - close.shift())\n",
    "    tr = high_low.combine(high_close, np.maximum).combine(low_close, np.maximum)\n",
    "    atr = tr.rolling(window=period).mean()\n",
    "    return atr\n",
    "\n",
    "def calculate_adx(high, low, close, period=14):\n",
    "    plus_dm = high.diff()\n",
    "    minus_dm = -low.diff()\n",
    "    plus_dm[plus_dm < 0] = 0\n",
    "    minus_dm[minus_dm < 0] = 0\n",
    "    tr = calculate_atr(high, low, close, period)\n",
    "    plus_di = 100 * (plus_dm.ewm(span=period, min_periods=period).mean() / tr)\n",
    "    minus_di = 100 * (minus_dm.ewm(span=period, min_periods=period).mean() / tr)\n",
    "    dx = 100 * np.abs((plus_di - minus_di) / (plus_di + minus_di))\n",
    "    adx = dx.ewm(span=period, min_periods=period).mean()\n",
    "    return adx\n"
   ]
  },
  {
   "cell_type": "markdown",
   "metadata": {},
   "source": [
    "# Calculating the Technical Indicators and Normalizing the Data "
   ]
  },
  {
   "cell_type": "code",
   "execution_count": 4,
   "metadata": {},
   "outputs": [],
   "source": [
    "# Calculate technical indicators\n",
    "def calculate_technical_indicators(data):\n",
    "    data['RSI'] = calculate_rsi(data['Close'])\n",
    "    data['MACD'], data['MACD_signal'], _ = calculate_macd(data['Close'])\n",
    "    data['Stoch_k'], data['Stoch_d'] = calculate_stochastic(data['High'], data['Low'], data['Close'])\n",
    "    data['OBV'] = calculate_obv(data['Close'], data['Volume'])\n",
    "    data['Upper_BB'], _, data['Lower_BB'] = calculate_bollinger_bands(data['Close'])\n",
    "    data['ATR'] = calculate_atr(data['High'], data['Low'], data['Close'])\n",
    "    data['ADX'] = calculate_adx(data['High'], data['Low'], data['Close'])\n",
    "\n",
    "# Add all indicators to the dataframe\n",
    "calculate_technical_indicators(data)\n",
    "\n",
    "# Normalize the entire dataframe\n",
    "scaler = MinMaxScaler()\n",
    "features = ['Close', 'Volume', 'RSI', 'MACD', 'MACD_signal', 'Stoch_k', 'Stoch_d', 'OBV', 'Upper_BB', 'Lower_BB', 'ATR', 'ADX']\n",
    "data[features] = scaler.fit_transform(data[features])\n"
   ]
  },
  {
   "cell_type": "markdown",
   "metadata": {},
   "source": [
    "# Create a Dataset and DataLoader"
   ]
  },
  {
   "cell_type": "code",
   "execution_count": 5,
   "metadata": {},
   "outputs": [],
   "source": [
    "# Create a Dataset and DataLoader\n",
    "class TradeDataset(Dataset):\n",
    "    def __init__(self, data, seq_len=60):\n",
    "        self.data = data.dropna().reset_index(drop=True)\n",
    "        self.seq_len = seq_len\n",
    "        self.scaler = MinMaxScaler()\n",
    "        features = ['Close', 'Volume', 'RSI', 'MACD', 'MACD_signal', 'Stoch_k', 'Stoch_d', 'OBV', 'Upper_BB', 'Lower_BB', 'ATR', 'ADX']\n",
    "        self.data[features] = self.scaler.fit_transform(self.data[features])\n",
    "\n",
    "    def __len__(self):\n",
    "        return len(self.data) - self.seq_len\n",
    "\n",
    "    def __getitem__(self, idx):\n",
    "        x = self.data.iloc[idx:idx+self.seq_len][['Close', 'Volume', 'RSI', 'MACD', 'MACD_signal', 'Stoch_k', 'Stoch_d', 'OBV', 'Upper_BB', 'Lower_BB', 'ATR', 'ADX']].values\n",
    "        y = self.data.iloc[idx+self.seq_len]['Close']\n",
    "        return torch.tensor(x, dtype=torch.float32).to(device), torch.tensor(y, dtype=torch.float32).to(device)\n",
    "\n",
    "# Instantiate the dataset\n",
    "dataset = TradeDataset(data)\n",
    "\n",
    "# Create DataLoader\n",
    "dataloader = DataLoader(dataset, batch_size=256, shuffle=True)\n"
   ]
  },
  {
   "cell_type": "markdown",
   "metadata": {},
   "source": [
    "# Implementing the Transformer Model"
   ]
  },
  {
   "cell_type": "code",
   "execution_count": 6,
   "metadata": {},
   "outputs": [],
   "source": [
    "# Implement the Transformer Model\n",
    "class TransformerModel(nn.Module):\n",
    "    def __init__(self, input_dim, model_dim, num_heads, num_layers, output_dim):\n",
    "        super(TransformerModel, self).__init__()\n",
    "        self.model_dim = model_dim\n",
    "        self.input_layer = nn.Linear(input_dim, model_dim)\n",
    "        self.encoder_layer = nn.TransformerEncoderLayer(d_model=model_dim, nhead=num_heads)\n",
    "        self.transformer_encoder = nn.TransformerEncoder(self.encoder_layer, num_layers=num_layers)\n",
    "        self.linear = nn.Linear(model_dim, output_dim)\n",
    "\n",
    "    def forward(self, src):\n",
    "        src = self.input_layer(src)\n",
    "        if src.dim() == 2:\n",
    "            src = src.unsqueeze(0)  # Ensure 3D input for transformer\n",
    "        src = src.permute(1, 0, 2)  # Transformer expects input shape: [seq_len, batch_size, model_dim]\n",
    "        output = self.transformer_encoder(src)\n",
    "        output = output.mean(dim=0)\n",
    "        output = self.linear(output)\n",
    "        return output\n"
   ]
  },
  {
   "cell_type": "markdown",
   "metadata": {},
   "source": [
    "# Train the Model"
   ]
  },
  {
   "cell_type": "code",
   "execution_count": 7,
   "metadata": {},
   "outputs": [
    {
     "name": "stderr",
     "output_type": "stream",
     "text": [
      "c:\\Users\\rahul\\AppData\\Local\\Programs\\Python\\Python312\\Lib\\site-packages\\torch\\nn\\modules\\transformer.py:306: UserWarning: enable_nested_tensor is True, but self.use_nested_tensor is False because encoder_layer.self_attn.batch_first was not True(use batch_first for better inference performance)\n",
      "  warnings.warn(f\"enable_nested_tensor is True, but self.use_nested_tensor is False because {why_not_sparsity_fast_path}\")\n",
      "100%|██████████| 211/211 [04:05<00:00,  1.16s/it]"
     ]
    },
    {
     "name": "stdout",
     "output_type": "stream",
     "text": [
      "Epoch 1/1, Loss: 0.07880937649843049\n"
     ]
    },
    {
     "name": "stderr",
     "output_type": "stream",
     "text": [
      "\n"
     ]
    }
   ],
   "source": [
    "# Initialize the model, loss function, and optimizer\n",
    "model = TransformerModel(input_dim=12, model_dim=64, num_heads=8, num_layers=4, output_dim=1).to(device)\n",
    "criterion = nn.MSELoss()\n",
    "optimizer = optim.Adam(model.parameters(), lr=0.001)\n",
    "\n",
    "# Train the model for one epoch\n",
    "model.train()\n",
    "epoch_loss = 0\n",
    "for x_batch, y_batch in tqdm(dataloader):\n",
    "    optimizer.zero_grad()\n",
    "    output = model(x_batch)\n",
    "    loss = criterion(output.squeeze(), y_batch)\n",
    "    loss.backward()\n",
    "    optimizer.step()\n",
    "    epoch_loss += loss.item()\n",
    "\n",
    "print(f'Epoch 1/1, Loss: {epoch_loss/len(dataloader)}')\n"
   ]
  },
  {
   "cell_type": "markdown",
   "metadata": {},
   "source": [
    "# Generate Trade Signals in Batches "
   ]
  },
  {
   "cell_type": "code",
   "execution_count": 8,
   "metadata": {},
   "outputs": [],
   "source": [
    "def generate_signals_batch(model, data, batch_size=512, threshold_buy=0.005, threshold_sell=-0.005):\n",
    "    model.eval()\n",
    "    signals = []\n",
    "    predictions = []\n",
    "\n",
    "    def process_batch(batch, start_idx):\n",
    "        x = torch.tensor(batch, dtype=torch.float32).to(device)\n",
    "        if x.dim() == 2:\n",
    "            x = x.unsqueeze(1)  # Ensure 3D input for transformer\n",
    "        with torch.no_grad():\n",
    "            preds = model(x).cpu().numpy()\n",
    "        return preds, start_idx\n",
    "\n",
    "    batches = [\n",
    "        (data.iloc[i:i+batch_size][['Close', 'Volume', 'RSI', 'MACD', 'MACD_signal', 'Stoch_k', 'Stoch_d', 'OBV', 'Upper_BB', 'Lower_BB', 'ATR', 'ADX']].values, i)\n",
    "        for i in range(0, len(data) - 60, batch_size)\n",
    "    ]\n",
    "\n",
    "    for batch, start_idx in tqdm(batches):\n",
    "        preds, batch_start_idx = process_batch(batch, start_idx)\n",
    "        for j, pred in enumerate(preds):\n",
    "            i = batch_start_idx + j\n",
    "            \n",
    "            # Check if i + 60 is within bounds\n",
    "            if i + 60 >= len(data):\n",
    "                break\n",
    "            \n",
    "            if pred / data.iloc[i+60]['Close'] - 1 > threshold_buy:\n",
    "                signals.append('BUY')\n",
    "            elif pred / data.iloc[i+60]['Close'] - 1 < threshold_sell:\n",
    "                signals.append('SELL')\n",
    "            else:\n",
    "                signals.append('HOLD')\n",
    "            predictions.append(pred)\n",
    "\n",
    "    return signals, predictions\n"
   ]
  },
  {
   "cell_type": "markdown",
   "metadata": {},
   "source": [
    "# Generate and Display Predictions"
   ]
  },
  {
   "cell_type": "code",
   "execution_count": 9,
   "metadata": {},
   "outputs": [
    {
     "name": "stderr",
     "output_type": "stream",
     "text": [
      " 57%|█████▋    | 66/116 [00:04<00:03, 13.15it/s]C:\\Users\\rahul\\AppData\\Local\\Temp\\ipykernel_27488\\1315968666.py:28: RuntimeWarning: divide by zero encountered in divide\n",
      "  if pred / data.iloc[i+60]['Close'] - 1 > threshold_buy:\n",
      "100%|██████████| 116/116 [00:07<00:00, 14.60it/s]"
     ]
    },
    {
     "name": "stdout",
     "output_type": "stream",
     "text": [
      "          Close    Prediction Signal\n",
      "59251  0.253968  [0.19522405]   SELL\n",
      "59252  0.257937  [0.27750823]    BUY\n",
      "59253  0.253968  [0.24018398]   SELL\n",
      "59254  0.257937  [0.23865181]   SELL\n",
      "59255  0.261905  [0.38666672]    BUY\n",
      "59256  0.261905   [0.2370181]   SELL\n",
      "59257  0.261905  [0.24403441]   SELL\n",
      "59258  0.261905  [0.32568675]    BUY\n",
      "59259  0.261905  [0.32747847]    BUY\n",
      "59260  0.261905  [0.24960123]   SELL\n",
      "59261  0.261905  [0.18716642]   SELL\n",
      "59262  0.261905  [0.18922503]   SELL\n",
      "59263  0.250000  [0.15318361]   SELL\n",
      "59264  0.250000   [0.2163932]   SELL\n",
      "59265  0.250000   [0.2956488]    BUY\n",
      "59266  0.265873  [0.28808838]    BUY\n",
      "59267  0.265873  [0.29191148]    BUY\n",
      "59268  0.250000  [0.29030657]    BUY\n",
      "59269  0.269841  [0.28118104]    BUY\n",
      "59270  0.269841  [0.28834432]    BUY\n"
     ]
    },
    {
     "name": "stderr",
     "output_type": "stream",
     "text": [
      "\n"
     ]
    }
   ],
   "source": [
    "# Generate signals and predictions\n",
    "signals, predictions = generate_signals_batch(model, data)\n",
    "data['Signal'] = ['HOLD'] * 60 + signals\n",
    "data['Prediction'] = [None] * 60 + predictions\n",
    "\n",
    "# Print a few rows for comparison\n",
    "print(data[['Close', 'Prediction', 'Signal']].tail(20))  # Check the last 20 rows\n"
   ]
  },
  {
   "cell_type": "code",
   "execution_count": null,
   "metadata": {},
   "outputs": [],
   "source": []
  }
 ],
 "metadata": {
  "kernelspec": {
   "display_name": "Python 3",
   "language": "python",
   "name": "python3"
  },
  "language_info": {
   "codemirror_mode": {
    "name": "ipython",
    "version": 3
   },
   "file_extension": ".py",
   "mimetype": "text/x-python",
   "name": "python",
   "nbconvert_exporter": "python",
   "pygments_lexer": "ipython3",
   "version": "3.12.4"
  }
 },
 "nbformat": 4,
 "nbformat_minor": 2
}
